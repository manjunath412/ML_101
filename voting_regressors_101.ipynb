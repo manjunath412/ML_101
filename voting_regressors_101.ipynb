{
 "cells": [
  {
   "cell_type": "code",
   "execution_count": null,
   "id": "42949c14-41e3-4142-93af-4bed8b1a9f4c",
   "metadata": {},
   "outputs": [],
   "source": [
    "from sklearn.ensemble import (\n",
    "    GradientBoostingRegressor,\n",
    "    RandomForestRegressor,\n",
    "    VotingRegressor,\n",
    ")\n",
    "from sklearn.linear_model import LinearRegression\n",
    "from sklearn.datasets import load_diabetes\n",
    "import matplotlib.pyplot as plt"
   ]
  },
  {
   "cell_type": "code",
   "execution_count": null,
   "id": "0765005c-3bbf-449d-9561-db67ca418764",
   "metadata": {},
   "outputs": [],
   "source": [
    "'''\n",
    "the diabetes dataset which consists of 10 features\n",
    "collected from a cohort of diabetes patients. The target is a quantitative\n",
    "measure of disease progression one year after baseline.\n",
    "'''\n",
    "X, y = load_diabetes(return_X_y=True)"
   ]
  },
  {
   "cell_type": "code",
   "execution_count": null,
   "id": "be25c135-d1d7-4748-b623-ebda5668d272",
   "metadata": {},
   "outputs": [],
   "source": [
    "y"
   ]
  },
  {
   "cell_type": "code",
   "execution_count": null,
   "id": "15001f1f-69d6-4943-a866-c26584c09dc9",
   "metadata": {},
   "outputs": [],
   "source": [
    "reggb = GradientBoostingRegressor(random_state=1)"
   ]
  },
  {
   "cell_type": "code",
   "execution_count": null,
   "id": "8a1438f2-27b6-48ad-bbde-f6a0c0e22a6b",
   "metadata": {},
   "outputs": [],
   "source": [
    "regrf = RandomForestRegressor(random_state=1)"
   ]
  },
  {
   "cell_type": "code",
   "execution_count": null,
   "id": "ca7c730e-6ca0-49bf-b71f-5423a494709c",
   "metadata": {},
   "outputs": [],
   "source": [
    "reglr = LinearRegression()"
   ]
  },
  {
   "cell_type": "code",
   "execution_count": null,
   "id": "4b92d005-b371-49cc-82c9-fd125a2f113c",
   "metadata": {},
   "outputs": [],
   "source": [
    "reggb.fit(X, y)"
   ]
  },
  {
   "cell_type": "code",
   "execution_count": null,
   "id": "7bdf7711-04c9-496b-aea5-d31d7daa2171",
   "metadata": {},
   "outputs": [],
   "source": [
    "regrf.fit(X,y)"
   ]
  },
  {
   "cell_type": "code",
   "execution_count": null,
   "id": "808ac8a9-5754-43f7-a61a-cfcd7a0f1b37",
   "metadata": {},
   "outputs": [],
   "source": [
    "reglr.fit(X, y)"
   ]
  },
  {
   "cell_type": "code",
   "execution_count": null,
   "id": "f576d693-31ca-4c1f-ae1c-1a324dd5fde2",
   "metadata": {},
   "outputs": [],
   "source": [
    "'''\n",
    "voting regressor is an ensemble meta-estimator that fits several base\n",
    "regressors, each on the whole dataset. Then it averages the individual\n",
    "predictions to form a final prediction\n",
    "'''\n",
    "ereg = VotingRegressor([(\"gb\", reggb), (\"rf\", regrf), (\"lr\", reglr)])\n",
    "ereg.fit(X, y)"
   ]
  },
  {
   "cell_type": "code",
   "execution_count": null,
   "id": "a94709b6-cc97-4b77-9230-4ca1f7bf3b12",
   "metadata": {},
   "outputs": [],
   "source": [
    "#First 20 predictions for each regressor model\n",
    "xt = X[:20]"
   ]
  },
  {
   "cell_type": "code",
   "execution_count": null,
   "id": "d9ac2751-ba19-423a-91b6-15f9ed19ca31",
   "metadata": {},
   "outputs": [],
   "source": [
    "predgb = reggb.predict(xt)"
   ]
  },
  {
   "cell_type": "code",
   "execution_count": null,
   "id": "6cbb4dc7-0a5f-4ceb-9404-9ed36c46a7c8",
   "metadata": {},
   "outputs": [],
   "source": [
    "predrf = regrf.predict(xt)"
   ]
  },
  {
   "cell_type": "code",
   "execution_count": null,
   "id": "18142323-c77f-4c59-b738-8738450bb8f2",
   "metadata": {},
   "outputs": [],
   "source": [
    "predlr = reglr.predict(xt)"
   ]
  },
  {
   "cell_type": "code",
   "execution_count": null,
   "id": "8f129d94-7bfb-49c6-9312-c905c46781be",
   "metadata": {},
   "outputs": [],
   "source": [
    "pred_ereg = ereg.predict(xt)"
   ]
  },
  {
   "cell_type": "code",
   "execution_count": null,
   "id": "5ac6df3c-3282-495a-b2d7-2b868ffb55ca",
   "metadata": {},
   "outputs": [],
   "source": [
    "#Plot\n",
    "plt.figure()\n",
    "plt.plot(predgb, \"gd\", label=\"GradientBoostingRegressor\")\n",
    "plt.plot(predrf, \"b^\", label=\"RandomForestRegressor\")\n",
    "plt.plot(predlr, \"ys\", label=\"LinearRegression\")\n",
    "plt.plot(pred_ereg, \"r*\", ms=10, label=\"VotingRegressor\")\n",
    "\n",
    "plt.tick_params(axis=\"x\", which=\"both\", bottom=False, top=False, labelbottom=False)\n",
    "plt.ylabel(\"predicted\")\n",
    "plt.xlabel(\"training samples\")\n",
    "plt.legend(loc=\"best\")\n",
    "plt.title(\"Regressor predictions and their average\")\n",
    "\n",
    "plt.show()"
   ]
  },
  {
   "cell_type": "code",
   "execution_count": null,
   "id": "38237187-afd1-4ed6-a72b-d2a0434f8e3c",
   "metadata": {},
   "outputs": [],
   "source": []
  }
 ],
 "metadata": {
  "kernelspec": {
   "display_name": "Python 3 (ipykernel)",
   "language": "python",
   "name": "python3"
  },
  "language_info": {
   "codemirror_mode": {
    "name": "ipython",
    "version": 3
   },
   "file_extension": ".py",
   "mimetype": "text/x-python",
   "name": "python",
   "nbconvert_exporter": "python",
   "pygments_lexer": "ipython3",
   "version": "3.11.4"
  }
 },
 "nbformat": 4,
 "nbformat_minor": 5
}
