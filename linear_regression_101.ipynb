{
 "cells": [
  {
   "cell_type": "code",
   "execution_count": null,
   "id": "97761f36",
   "metadata": {},
   "outputs": [],
   "source": [
    "import numpy as np\n",
    "from sklearn.linear_model import LinearRegression\n",
    "from sklearn.preprocessing import PolynomialFeatures\n",
    "import matplotlib.pyplot as plt"
   ]
  },
  {
   "cell_type": "code",
   "execution_count": null,
   "id": "8bfed201-0b8c-4716-8c2a-f99a127080ec",
   "metadata": {},
   "outputs": [],
   "source": [
    "!pip install matplotlib"
   ]
  },
  {
   "cell_type": "code",
   "execution_count": null,
   "id": "e4260a4c",
   "metadata": {},
   "outputs": [],
   "source": [
    "x = np.array([5, 15, 25, 35, 45, 55]).reshape((-1, 1))# makes the 1d array into 2d\n",
    "y = np.array([5, 20, 14, 32, 22, 38]) #let us make this our dependent variable"
   ]
  },
  {
   "cell_type": "code",
   "execution_count": null,
   "id": "60e30113",
   "metadata": {},
   "outputs": [],
   "source": [
    "print(x.shape)\n",
    "x"
   ]
  },
  {
   "cell_type": "code",
   "execution_count": null,
   "id": "c6fdfdab",
   "metadata": {},
   "outputs": [],
   "source": [
    "print(y.shape)"
   ]
  },
  {
   "cell_type": "code",
   "execution_count": null,
   "id": "1a1297d2",
   "metadata": {},
   "outputs": [],
   "source": [
    "model = LinearRegression() \n",
    "#statistical method to model relationship between a dependent and 1 or more independent variables by fitting a linear equation"
   ]
  },
  {
   "cell_type": "code",
   "execution_count": null,
   "id": "37778fd2",
   "metadata": {},
   "outputs": [],
   "source": [
    "model.fit(x, y)"
   ]
  },
  {
   "cell_type": "code",
   "execution_count": null,
   "id": "1c47ce79",
   "metadata": {},
   "outputs": [],
   "source": [
    "model.intercept_  #when x is zero y has this value. this is based on the values in the x and y above"
   ]
  },
  {
   "cell_type": "code",
   "execution_count": null,
   "id": "3a16aac7",
   "metadata": {},
   "outputs": [],
   "source": [
    "model.coef_ #slope"
   ]
  },
  {
   "cell_type": "code",
   "execution_count": null,
   "id": "b9df868a",
   "metadata": {},
   "outputs": [],
   "source": [
    "r_sq = model.score(x, y)\n",
    "print(r_sq)\n",
    "#R_sq represents the proportion of variance. 1 means perfect fit, 0 means as good as the mean and negative means worse than mean-based model"
   ]
  },
  {
   "cell_type": "code",
   "execution_count": null,
   "id": "133b6769",
   "metadata": {},
   "outputs": [],
   "source": [
    "y_pred = model.predict(x)\n",
    "print(y_pred)"
   ]
  },
  {
   "cell_type": "code",
   "execution_count": null,
   "id": "4633f3e0",
   "metadata": {},
   "outputs": [],
   "source": [
    "model.intercept_ + model.coef_ * x"
   ]
  },
  {
   "cell_type": "code",
   "execution_count": null,
   "id": "6f7713ca",
   "metadata": {},
   "outputs": [],
   "source": [
    "x_new = np.arange(5).reshape((-1, 1))\n",
    "print(x_new)"
   ]
  },
  {
   "cell_type": "code",
   "execution_count": null,
   "id": "6b692faf",
   "metadata": {},
   "outputs": [],
   "source": [
    "y_new = model.predict(x_new)\n",
    "print(y_new)"
   ]
  },
  {
   "cell_type": "code",
   "execution_count": null,
   "id": "cea2f2dd",
   "metadata": {},
   "outputs": [],
   "source": [
    "# Extra code added to visualize regression line\n",
    "fig, ax = plt.subplots(figsize=(10, 6))\n",
    "\n",
    "# plot regression line\n",
    "regression_line, = ax.plot([0, *x.reshape(-1)], [model.intercept_, *y_pred], 'k', linewidth=2)\n",
    "\n",
    "# plot residuals\n",
    "residuals = []\n",
    "for a, b, c in zip(x, y, y_pred):\n",
    "    \n",
    "    residuals.append(ax.plot([a, a], [b, c], '--', linewidth=2, color='gray'))\n",
    "\n",
    "# plot actual response\n",
    "response, = ax.plot(x, y, '.g', markersize=20)\n",
    "\n",
    "# plot estimated response\n",
    "predictions, = ax.plot(x, y_pred, 'sr', markersize=10)\n",
    "\n",
    "# horizontal line at y = b_0\n",
    "ax.plot([0, 60], [model.intercept_] * 2, color='gray', linewidth=0.5)\n",
    "\n",
    "# axes labels, limits, and intercept\n",
    "ax.set_xlabel('x', fontsize=12, fontweight='bold')\n",
    "ax.set_ylabel('y', fontsize=12, fontweight='bold', rotation=0)\n",
    "ax.set_ylim(0, 40)\n",
    "ax.set_xlim(0, 60)\n",
    "ax.text(-2, model.intercept_, r'$b_0$')\n",
    "ax.set_yticks([0, 10, 20, 30, 40])\n",
    "\n",
    "# legend, done manually because of residuals\n",
    "ax.legend([regression_line, response, predictions, residuals[0][0]], \n",
    "          ['Estimated regression line, $f(x)=b_0+b_1x$',\n",
    "           r'Actual response, $y_i$',\n",
    "           r'Predicted response, $f(x_i)=b_0+b_1x_i$',\n",
    "           r'Residuals, $y_i - f(x_i)$'\n",
    "])\n",
    "\n",
    "# styles\n",
    "ax.set_facecolor((0.95, 0.95, 0.95))\n",
    "ax.grid(color='white')\n"
   ]
  },
  {
   "cell_type": "markdown",
   "id": "e1890f37",
   "metadata": {},
   "source": [
    "### Multiple Linear Regression"
   ]
  },
  {
   "cell_type": "code",
   "execution_count": null,
   "id": "fdc07093",
   "metadata": {},
   "outputs": [],
   "source": [
    "x = [[0, 1], [5, 1], [15, 2], [25, 5], [35, 11], [45, 15], [55, 34], [60, 35]]\n",
    "y = [4, 5, 20, 14, 32, 22, 38, 43]"
   ]
  },
  {
   "cell_type": "code",
   "execution_count": null,
   "id": "96d5bd9b",
   "metadata": {},
   "outputs": [],
   "source": [
    "x = np.array(x)\n",
    "y = np.array(y)"
   ]
  },
  {
   "cell_type": "code",
   "execution_count": null,
   "id": "1ea13afa",
   "metadata": {},
   "outputs": [],
   "source": [
    "print(x.shape)\n",
    "print(y.shape)"
   ]
  },
  {
   "cell_type": "code",
   "execution_count": null,
   "id": "5dd363ca",
   "metadata": {},
   "outputs": [],
   "source": [
    "model = LinearRegression().fit(x, y)"
   ]
  },
  {
   "cell_type": "code",
   "execution_count": null,
   "id": "e7763092",
   "metadata": {},
   "outputs": [],
   "source": [
    "r_sq = model.score(x, y)\n",
    "print(r_sq)"
   ]
  },
  {
   "cell_type": "code",
   "execution_count": null,
   "id": "a578c6ce",
   "metadata": {},
   "outputs": [],
   "source": [
    "print(model.intercept_)\n",
    "print(model.coef_)"
   ]
  },
  {
   "cell_type": "code",
   "execution_count": null,
   "id": "dccfa88d",
   "metadata": {},
   "outputs": [],
   "source": [
    "y_est = model.predict(x)"
   ]
  },
  {
   "cell_type": "code",
   "execution_count": null,
   "id": "5cba61ab",
   "metadata": {},
   "outputs": [],
   "source": [
    "y_est, y"
   ]
  },
  {
   "cell_type": "code",
   "execution_count": null,
   "id": "e777ce93",
   "metadata": {},
   "outputs": [],
   "source": [
    "x_new = np.arange(10).reshape((-1, 2))\n",
    "print(x_new)"
   ]
  },
  {
   "cell_type": "code",
   "execution_count": null,
   "id": "c7fa8fff",
   "metadata": {},
   "outputs": [],
   "source": [
    "model.predict(x_new)"
   ]
  },
  {
   "cell_type": "markdown",
   "id": "0d4b4c6e",
   "metadata": {},
   "source": [
    "### Polynomial Regression"
   ]
  },
  {
   "cell_type": "code",
   "execution_count": null,
   "id": "f731f112",
   "metadata": {},
   "outputs": [],
   "source": [
    "x = np.array([5, 15, 25, 35, 45, 55]).reshape((-1, 1))\n",
    "y = np.array([15, 11, 2, 8, 25, 32])\n",
    "print(x)"
   ]
  },
  {
   "cell_type": "code",
   "execution_count": null,
   "id": "e8dcb9e6",
   "metadata": {},
   "outputs": [],
   "source": [
    "transformer = PolynomialFeatures(degree=2, include_bias=False)"
   ]
  },
  {
   "cell_type": "code",
   "execution_count": null,
   "id": "88d1e306",
   "metadata": {},
   "outputs": [],
   "source": [
    "x_ = transformer.fit_transform(x)\n",
    "print(x_)"
   ]
  },
  {
   "cell_type": "code",
   "execution_count": null,
   "id": "821adfe3",
   "metadata": {},
   "outputs": [],
   "source": [
    "model = LinearRegression().fit(x_, y)"
   ]
  },
  {
   "cell_type": "code",
   "execution_count": null,
   "id": "db4b3d79",
   "metadata": {},
   "outputs": [],
   "source": [
    "print(model.intercept_)\n",
    "print(model.coef_)"
   ]
  },
  {
   "cell_type": "code",
   "execution_count": null,
   "id": "8d089a04",
   "metadata": {},
   "outputs": [],
   "source": [
    "r_sq = model.score(x_, y)\n",
    "print(r_sq)"
   ]
  },
  {
   "cell_type": "code",
   "execution_count": null,
   "id": "d898930e",
   "metadata": {},
   "outputs": [],
   "source": [
    "y_est = model.predict(x_)\n",
    "print(y - y_est)"
   ]
  },
  {
   "cell_type": "code",
   "execution_count": null,
   "id": "c9598b14",
   "metadata": {},
   "outputs": [],
   "source": [
    "# Extra code included for visualizing polynomial regression\n",
    "# Using observations x and y from test data and not\n",
    "# from the article figures\n",
    "\n",
    "fig, axs = plt.subplots(2, 2, figsize=(12, 12))\n",
    "\n",
    "transformers = []\n",
    "degrees = [1, 2, 3, 5]\n",
    "X_ = []\n",
    "models = []\n",
    "\n",
    "for k, degree in enumerate(degrees):\n",
    "    \n",
    "    transformers.append(PolynomialFeatures(degree=degree, include_bias=False))\n",
    "    \n",
    "    X_.append(transformers[k].fit_transform(x))\n",
    "    \n",
    "    models.append(LinearRegression().fit(X_[k] , y))\n",
    "\n",
    "x_min, x_max = 0, 60\n",
    "x_nodes = np.linspace(x_min, x_max, 101)\n",
    "    \n",
    "for k, ax in enumerate(axs.reshape(-1)):\n",
    "    \n",
    "    # responses\n",
    "    ax.plot(x, y, '.g', markersize=18, label=r'Actual response, $y_i$', zorder=3)\n",
    "    \n",
    "    # get predicted values on a finer x-grid using the x_nodes array\n",
    "    x_nodes_transformed = transformers[k].fit_transform(x_nodes.reshape(-1, 1))\n",
    "    ax.plot(x_nodes, models[k].predict(x_nodes_transformed), 'k', \n",
    "            linewidth=2, label=r'Estimated regression line, $f(x)$', zorder=2)\n",
    "    \n",
    "    # legend\n",
    "    ax.legend(loc='upper center')\n",
    "    \n",
    "    # title\n",
    "    deg = f'Degree: {degrees[k]}, '\n",
    "    R2 = r'$R^2 = $'\n",
    "    score = str(round(models[k].score(X_[k], y), 2))\n",
    "    ax.set_title(deg + R2 + score)\n",
    "        \n",
    "    # styles, etc.\n",
    "    ax.set_yticks(range(x_min, x_max, 10))\n",
    "    ax.set_xticks(range(x_min, x_max, 10))\n",
    "    ax.grid(color='white')\n",
    "    ax.set_facecolor((0.95, 0.95, 0.95))\n",
    "    ax.set_xlabel('x', fontsize=12, fontweight='bold')\n",
    "    ax.set_ylabel('y', fontsize=12, fontweight='bold', rotation=0)\n"
   ]
  },
  {
   "cell_type": "markdown",
   "id": "c8d89d07",
   "metadata": {},
   "source": [
    "### MultiPolynomial R"
   ]
  },
  {
   "cell_type": "code",
   "execution_count": null,
   "id": "df713b8a",
   "metadata": {},
   "outputs": [],
   "source": [
    "x = [[0, 1], [5, 1], [15, 2], [25, 5], [35, 11], [45, 15], [55, 34], [60, 35]]\n",
    "y = [4, 5, 20, 14, 32, 22, 38, 43]\n",
    "x = np.array(x)\n",
    "y = np.array(y)"
   ]
  },
  {
   "cell_type": "code",
   "execution_count": null,
   "id": "5b1028b3",
   "metadata": {},
   "outputs": [],
   "source": [
    "x_ = PolynomialFeatures(degree=2, include_bias=False).fit_transform(x)\n",
    "print(x_)"
   ]
  },
  {
   "cell_type": "code",
   "execution_count": null,
   "id": "526011f7",
   "metadata": {},
   "outputs": [],
   "source": [
    "model = LinearRegression().fit(x_, y)"
   ]
  },
  {
   "cell_type": "code",
   "execution_count": null,
   "id": "0e6e8e92",
   "metadata": {},
   "outputs": [],
   "source": [
    "print('r_sq = ', model.score(x_, y))"
   ]
  },
  {
   "cell_type": "code",
   "execution_count": null,
   "id": "8f5ae761",
   "metadata": {},
   "outputs": [],
   "source": [
    "print('b_0 =', model.intercept_)\n",
    "print('[b_1, b_2, b_3, b_4, b_5] = ', model.coef_)"
   ]
  },
  {
   "cell_type": "code",
   "execution_count": null,
   "id": "058796b9",
   "metadata": {},
   "outputs": [],
   "source": []
  }
 ],
 "metadata": {
  "kernelspec": {
   "display_name": "Python 3 (ipykernel)",
   "language": "python",
   "name": "python3"
  },
  "language_info": {
   "codemirror_mode": {
    "name": "ipython",
    "version": 3
   },
   "file_extension": ".py",
   "mimetype": "text/x-python",
   "name": "python",
   "nbconvert_exporter": "python",
   "pygments_lexer": "ipython3",
   "version": "3.11.4"
  }
 },
 "nbformat": 4,
 "nbformat_minor": 5
}
